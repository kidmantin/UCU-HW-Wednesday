{
  "nbformat": 4,
  "nbformat_minor": 0,
  "metadata": {
    "colab": {
      "provenance": [],
      "gpuType": "T4"
    },
    "kernelspec": {
      "name": "python3",
      "display_name": "Python 3"
    },
    "language_info": {
      "name": "python"
    },
    "accelerator": "GPU",
    "gpuClass": "standard",
    "widgets": {
      "application/vnd.jupyter.widget-state+json": {
        "c9b23991675a4cfeb3f2ae4b8427ef8d": {
          "model_module": "@jupyter-widgets/controls",
          "model_name": "HBoxModel",
          "model_module_version": "1.5.0",
          "state": {
            "_dom_classes": [],
            "_model_module": "@jupyter-widgets/controls",
            "_model_module_version": "1.5.0",
            "_model_name": "HBoxModel",
            "_view_count": null,
            "_view_module": "@jupyter-widgets/controls",
            "_view_module_version": "1.5.0",
            "_view_name": "HBoxView",
            "box_style": "",
            "children": [
              "IPY_MODEL_7f14688e2bf7405c86f87a1c944493b6",
              "IPY_MODEL_15c5199882914856bb47ecfcbbe5bb0d",
              "IPY_MODEL_d8c76b5239454d3cac0e6593729a970f"
            ],
            "layout": "IPY_MODEL_c7317c5610c749a281b5a9da38ddd45f"
          }
        },
        "7f14688e2bf7405c86f87a1c944493b6": {
          "model_module": "@jupyter-widgets/controls",
          "model_name": "HTMLModel",
          "model_module_version": "1.5.0",
          "state": {
            "_dom_classes": [],
            "_model_module": "@jupyter-widgets/controls",
            "_model_module_version": "1.5.0",
            "_model_name": "HTMLModel",
            "_view_count": null,
            "_view_module": "@jupyter-widgets/controls",
            "_view_module_version": "1.5.0",
            "_view_name": "HTMLView",
            "description": "",
            "description_tooltip": null,
            "layout": "IPY_MODEL_54afd57b29c5417ab0efc9f5285489cd",
            "placeholder": "​",
            "style": "IPY_MODEL_77b6dac34afb4ed89231dcab28ab5c0e",
            "value": "100%"
          }
        },
        "15c5199882914856bb47ecfcbbe5bb0d": {
          "model_module": "@jupyter-widgets/controls",
          "model_name": "FloatProgressModel",
          "model_module_version": "1.5.0",
          "state": {
            "_dom_classes": [],
            "_model_module": "@jupyter-widgets/controls",
            "_model_module_version": "1.5.0",
            "_model_name": "FloatProgressModel",
            "_view_count": null,
            "_view_module": "@jupyter-widgets/controls",
            "_view_module_version": "1.5.0",
            "_view_name": "ProgressView",
            "bar_style": "success",
            "description": "",
            "description_tooltip": null,
            "layout": "IPY_MODEL_24844b4c453e462f95b28ca3ced815b7",
            "max": 3568,
            "min": 0,
            "orientation": "horizontal",
            "style": "IPY_MODEL_69724607f71248adab21d74a8e8de1e4",
            "value": 3568
          }
        },
        "d8c76b5239454d3cac0e6593729a970f": {
          "model_module": "@jupyter-widgets/controls",
          "model_name": "HTMLModel",
          "model_module_version": "1.5.0",
          "state": {
            "_dom_classes": [],
            "_model_module": "@jupyter-widgets/controls",
            "_model_module_version": "1.5.0",
            "_model_name": "HTMLModel",
            "_view_count": null,
            "_view_module": "@jupyter-widgets/controls",
            "_view_module_version": "1.5.0",
            "_view_name": "HTMLView",
            "description": "",
            "description_tooltip": null,
            "layout": "IPY_MODEL_e2a8c5e672b14b8e88e089e7481054ae",
            "placeholder": "​",
            "style": "IPY_MODEL_fc42b59e47f04685a7733580cdc18673",
            "value": " 3568/3568 [33:08&lt;00:00,  2.21it/s]"
          }
        },
        "c7317c5610c749a281b5a9da38ddd45f": {
          "model_module": "@jupyter-widgets/base",
          "model_name": "LayoutModel",
          "model_module_version": "1.2.0",
          "state": {
            "_model_module": "@jupyter-widgets/base",
            "_model_module_version": "1.2.0",
            "_model_name": "LayoutModel",
            "_view_count": null,
            "_view_module": "@jupyter-widgets/base",
            "_view_module_version": "1.2.0",
            "_view_name": "LayoutView",
            "align_content": null,
            "align_items": null,
            "align_self": null,
            "border": null,
            "bottom": null,
            "display": null,
            "flex": null,
            "flex_flow": null,
            "grid_area": null,
            "grid_auto_columns": null,
            "grid_auto_flow": null,
            "grid_auto_rows": null,
            "grid_column": null,
            "grid_gap": null,
            "grid_row": null,
            "grid_template_areas": null,
            "grid_template_columns": null,
            "grid_template_rows": null,
            "height": null,
            "justify_content": null,
            "justify_items": null,
            "left": null,
            "margin": null,
            "max_height": null,
            "max_width": null,
            "min_height": null,
            "min_width": null,
            "object_fit": null,
            "object_position": null,
            "order": null,
            "overflow": null,
            "overflow_x": null,
            "overflow_y": null,
            "padding": null,
            "right": null,
            "top": null,
            "visibility": null,
            "width": null
          }
        },
        "54afd57b29c5417ab0efc9f5285489cd": {
          "model_module": "@jupyter-widgets/base",
          "model_name": "LayoutModel",
          "model_module_version": "1.2.0",
          "state": {
            "_model_module": "@jupyter-widgets/base",
            "_model_module_version": "1.2.0",
            "_model_name": "LayoutModel",
            "_view_count": null,
            "_view_module": "@jupyter-widgets/base",
            "_view_module_version": "1.2.0",
            "_view_name": "LayoutView",
            "align_content": null,
            "align_items": null,
            "align_self": null,
            "border": null,
            "bottom": null,
            "display": null,
            "flex": null,
            "flex_flow": null,
            "grid_area": null,
            "grid_auto_columns": null,
            "grid_auto_flow": null,
            "grid_auto_rows": null,
            "grid_column": null,
            "grid_gap": null,
            "grid_row": null,
            "grid_template_areas": null,
            "grid_template_columns": null,
            "grid_template_rows": null,
            "height": null,
            "justify_content": null,
            "justify_items": null,
            "left": null,
            "margin": null,
            "max_height": null,
            "max_width": null,
            "min_height": null,
            "min_width": null,
            "object_fit": null,
            "object_position": null,
            "order": null,
            "overflow": null,
            "overflow_x": null,
            "overflow_y": null,
            "padding": null,
            "right": null,
            "top": null,
            "visibility": null,
            "width": null
          }
        },
        "77b6dac34afb4ed89231dcab28ab5c0e": {
          "model_module": "@jupyter-widgets/controls",
          "model_name": "DescriptionStyleModel",
          "model_module_version": "1.5.0",
          "state": {
            "_model_module": "@jupyter-widgets/controls",
            "_model_module_version": "1.5.0",
            "_model_name": "DescriptionStyleModel",
            "_view_count": null,
            "_view_module": "@jupyter-widgets/base",
            "_view_module_version": "1.2.0",
            "_view_name": "StyleView",
            "description_width": ""
          }
        },
        "24844b4c453e462f95b28ca3ced815b7": {
          "model_module": "@jupyter-widgets/base",
          "model_name": "LayoutModel",
          "model_module_version": "1.2.0",
          "state": {
            "_model_module": "@jupyter-widgets/base",
            "_model_module_version": "1.2.0",
            "_model_name": "LayoutModel",
            "_view_count": null,
            "_view_module": "@jupyter-widgets/base",
            "_view_module_version": "1.2.0",
            "_view_name": "LayoutView",
            "align_content": null,
            "align_items": null,
            "align_self": null,
            "border": null,
            "bottom": null,
            "display": null,
            "flex": null,
            "flex_flow": null,
            "grid_area": null,
            "grid_auto_columns": null,
            "grid_auto_flow": null,
            "grid_auto_rows": null,
            "grid_column": null,
            "grid_gap": null,
            "grid_row": null,
            "grid_template_areas": null,
            "grid_template_columns": null,
            "grid_template_rows": null,
            "height": null,
            "justify_content": null,
            "justify_items": null,
            "left": null,
            "margin": null,
            "max_height": null,
            "max_width": null,
            "min_height": null,
            "min_width": null,
            "object_fit": null,
            "object_position": null,
            "order": null,
            "overflow": null,
            "overflow_x": null,
            "overflow_y": null,
            "padding": null,
            "right": null,
            "top": null,
            "visibility": null,
            "width": null
          }
        },
        "69724607f71248adab21d74a8e8de1e4": {
          "model_module": "@jupyter-widgets/controls",
          "model_name": "ProgressStyleModel",
          "model_module_version": "1.5.0",
          "state": {
            "_model_module": "@jupyter-widgets/controls",
            "_model_module_version": "1.5.0",
            "_model_name": "ProgressStyleModel",
            "_view_count": null,
            "_view_module": "@jupyter-widgets/base",
            "_view_module_version": "1.2.0",
            "_view_name": "StyleView",
            "bar_color": null,
            "description_width": ""
          }
        },
        "e2a8c5e672b14b8e88e089e7481054ae": {
          "model_module": "@jupyter-widgets/base",
          "model_name": "LayoutModel",
          "model_module_version": "1.2.0",
          "state": {
            "_model_module": "@jupyter-widgets/base",
            "_model_module_version": "1.2.0",
            "_model_name": "LayoutModel",
            "_view_count": null,
            "_view_module": "@jupyter-widgets/base",
            "_view_module_version": "1.2.0",
            "_view_name": "LayoutView",
            "align_content": null,
            "align_items": null,
            "align_self": null,
            "border": null,
            "bottom": null,
            "display": null,
            "flex": null,
            "flex_flow": null,
            "grid_area": null,
            "grid_auto_columns": null,
            "grid_auto_flow": null,
            "grid_auto_rows": null,
            "grid_column": null,
            "grid_gap": null,
            "grid_row": null,
            "grid_template_areas": null,
            "grid_template_columns": null,
            "grid_template_rows": null,
            "height": null,
            "justify_content": null,
            "justify_items": null,
            "left": null,
            "margin": null,
            "max_height": null,
            "max_width": null,
            "min_height": null,
            "min_width": null,
            "object_fit": null,
            "object_position": null,
            "order": null,
            "overflow": null,
            "overflow_x": null,
            "overflow_y": null,
            "padding": null,
            "right": null,
            "top": null,
            "visibility": null,
            "width": null
          }
        },
        "fc42b59e47f04685a7733580cdc18673": {
          "model_module": "@jupyter-widgets/controls",
          "model_name": "DescriptionStyleModel",
          "model_module_version": "1.5.0",
          "state": {
            "_model_module": "@jupyter-widgets/controls",
            "_model_module_version": "1.5.0",
            "_model_name": "DescriptionStyleModel",
            "_view_count": null,
            "_view_module": "@jupyter-widgets/base",
            "_view_module_version": "1.2.0",
            "_view_name": "StyleView",
            "description_width": ""
          }
        },
        "b28419326a1c4eceb8af0ec13c58625c": {
          "model_module": "@jupyter-widgets/controls",
          "model_name": "HBoxModel",
          "model_module_version": "1.5.0",
          "state": {
            "_dom_classes": [],
            "_model_module": "@jupyter-widgets/controls",
            "_model_module_version": "1.5.0",
            "_model_name": "HBoxModel",
            "_view_count": null,
            "_view_module": "@jupyter-widgets/controls",
            "_view_module_version": "1.5.0",
            "_view_name": "HBoxView",
            "box_style": "",
            "children": [
              "IPY_MODEL_26b53a88a884492c829f78005d4af742",
              "IPY_MODEL_c7d1cb418ba645209ae8eb2572c2bb0b",
              "IPY_MODEL_38955f54330041528d3b08ffb6b76394"
            ],
            "layout": "IPY_MODEL_d9faf2e5429048a08b8ad200d312feec"
          }
        },
        "26b53a88a884492c829f78005d4af742": {
          "model_module": "@jupyter-widgets/controls",
          "model_name": "HTMLModel",
          "model_module_version": "1.5.0",
          "state": {
            "_dom_classes": [],
            "_model_module": "@jupyter-widgets/controls",
            "_model_module_version": "1.5.0",
            "_model_name": "HTMLModel",
            "_view_count": null,
            "_view_module": "@jupyter-widgets/controls",
            "_view_module_version": "1.5.0",
            "_view_name": "HTMLView",
            "description": "",
            "description_tooltip": null,
            "layout": "IPY_MODEL_26569f92fcfb43a496bcf72e7ac6e789",
            "placeholder": "​",
            "style": "IPY_MODEL_466bcf5db3a54f928f4eadff11c8e616",
            "value": "100%"
          }
        },
        "c7d1cb418ba645209ae8eb2572c2bb0b": {
          "model_module": "@jupyter-widgets/controls",
          "model_name": "FloatProgressModel",
          "model_module_version": "1.5.0",
          "state": {
            "_dom_classes": [],
            "_model_module": "@jupyter-widgets/controls",
            "_model_module_version": "1.5.0",
            "_model_name": "FloatProgressModel",
            "_view_count": null,
            "_view_module": "@jupyter-widgets/controls",
            "_view_module_version": "1.5.0",
            "_view_name": "ProgressView",
            "bar_style": "success",
            "description": "",
            "description_tooltip": null,
            "layout": "IPY_MODEL_20756f47ab5a4c9db0ee82641cc783a1",
            "max": 338,
            "min": 0,
            "orientation": "horizontal",
            "style": "IPY_MODEL_782f03d6a11f48e5bda9b3beabe34049",
            "value": 338
          }
        },
        "38955f54330041528d3b08ffb6b76394": {
          "model_module": "@jupyter-widgets/controls",
          "model_name": "HTMLModel",
          "model_module_version": "1.5.0",
          "state": {
            "_dom_classes": [],
            "_model_module": "@jupyter-widgets/controls",
            "_model_module_version": "1.5.0",
            "_model_name": "HTMLModel",
            "_view_count": null,
            "_view_module": "@jupyter-widgets/controls",
            "_view_module_version": "1.5.0",
            "_view_name": "HTMLView",
            "description": "",
            "description_tooltip": null,
            "layout": "IPY_MODEL_d3ba6feec07545e7a102911b980e75fc",
            "placeholder": "​",
            "style": "IPY_MODEL_a6624cb2e7374a4c96e2bf93d715ff1b",
            "value": " 338/338 [09:41&lt;00:00,  1.56s/it]"
          }
        },
        "d9faf2e5429048a08b8ad200d312feec": {
          "model_module": "@jupyter-widgets/base",
          "model_name": "LayoutModel",
          "model_module_version": "1.2.0",
          "state": {
            "_model_module": "@jupyter-widgets/base",
            "_model_module_version": "1.2.0",
            "_model_name": "LayoutModel",
            "_view_count": null,
            "_view_module": "@jupyter-widgets/base",
            "_view_module_version": "1.2.0",
            "_view_name": "LayoutView",
            "align_content": null,
            "align_items": null,
            "align_self": null,
            "border": null,
            "bottom": null,
            "display": null,
            "flex": null,
            "flex_flow": null,
            "grid_area": null,
            "grid_auto_columns": null,
            "grid_auto_flow": null,
            "grid_auto_rows": null,
            "grid_column": null,
            "grid_gap": null,
            "grid_row": null,
            "grid_template_areas": null,
            "grid_template_columns": null,
            "grid_template_rows": null,
            "height": null,
            "justify_content": null,
            "justify_items": null,
            "left": null,
            "margin": null,
            "max_height": null,
            "max_width": null,
            "min_height": null,
            "min_width": null,
            "object_fit": null,
            "object_position": null,
            "order": null,
            "overflow": null,
            "overflow_x": null,
            "overflow_y": null,
            "padding": null,
            "right": null,
            "top": null,
            "visibility": null,
            "width": null
          }
        },
        "26569f92fcfb43a496bcf72e7ac6e789": {
          "model_module": "@jupyter-widgets/base",
          "model_name": "LayoutModel",
          "model_module_version": "1.2.0",
          "state": {
            "_model_module": "@jupyter-widgets/base",
            "_model_module_version": "1.2.0",
            "_model_name": "LayoutModel",
            "_view_count": null,
            "_view_module": "@jupyter-widgets/base",
            "_view_module_version": "1.2.0",
            "_view_name": "LayoutView",
            "align_content": null,
            "align_items": null,
            "align_self": null,
            "border": null,
            "bottom": null,
            "display": null,
            "flex": null,
            "flex_flow": null,
            "grid_area": null,
            "grid_auto_columns": null,
            "grid_auto_flow": null,
            "grid_auto_rows": null,
            "grid_column": null,
            "grid_gap": null,
            "grid_row": null,
            "grid_template_areas": null,
            "grid_template_columns": null,
            "grid_template_rows": null,
            "height": null,
            "justify_content": null,
            "justify_items": null,
            "left": null,
            "margin": null,
            "max_height": null,
            "max_width": null,
            "min_height": null,
            "min_width": null,
            "object_fit": null,
            "object_position": null,
            "order": null,
            "overflow": null,
            "overflow_x": null,
            "overflow_y": null,
            "padding": null,
            "right": null,
            "top": null,
            "visibility": null,
            "width": null
          }
        },
        "466bcf5db3a54f928f4eadff11c8e616": {
          "model_module": "@jupyter-widgets/controls",
          "model_name": "DescriptionStyleModel",
          "model_module_version": "1.5.0",
          "state": {
            "_model_module": "@jupyter-widgets/controls",
            "_model_module_version": "1.5.0",
            "_model_name": "DescriptionStyleModel",
            "_view_count": null,
            "_view_module": "@jupyter-widgets/base",
            "_view_module_version": "1.2.0",
            "_view_name": "StyleView",
            "description_width": ""
          }
        },
        "20756f47ab5a4c9db0ee82641cc783a1": {
          "model_module": "@jupyter-widgets/base",
          "model_name": "LayoutModel",
          "model_module_version": "1.2.0",
          "state": {
            "_model_module": "@jupyter-widgets/base",
            "_model_module_version": "1.2.0",
            "_model_name": "LayoutModel",
            "_view_count": null,
            "_view_module": "@jupyter-widgets/base",
            "_view_module_version": "1.2.0",
            "_view_name": "LayoutView",
            "align_content": null,
            "align_items": null,
            "align_self": null,
            "border": null,
            "bottom": null,
            "display": null,
            "flex": null,
            "flex_flow": null,
            "grid_area": null,
            "grid_auto_columns": null,
            "grid_auto_flow": null,
            "grid_auto_rows": null,
            "grid_column": null,
            "grid_gap": null,
            "grid_row": null,
            "grid_template_areas": null,
            "grid_template_columns": null,
            "grid_template_rows": null,
            "height": null,
            "justify_content": null,
            "justify_items": null,
            "left": null,
            "margin": null,
            "max_height": null,
            "max_width": null,
            "min_height": null,
            "min_width": null,
            "object_fit": null,
            "object_position": null,
            "order": null,
            "overflow": null,
            "overflow_x": null,
            "overflow_y": null,
            "padding": null,
            "right": null,
            "top": null,
            "visibility": null,
            "width": null
          }
        },
        "782f03d6a11f48e5bda9b3beabe34049": {
          "model_module": "@jupyter-widgets/controls",
          "model_name": "ProgressStyleModel",
          "model_module_version": "1.5.0",
          "state": {
            "_model_module": "@jupyter-widgets/controls",
            "_model_module_version": "1.5.0",
            "_model_name": "ProgressStyleModel",
            "_view_count": null,
            "_view_module": "@jupyter-widgets/base",
            "_view_module_version": "1.2.0",
            "_view_name": "StyleView",
            "bar_color": null,
            "description_width": ""
          }
        },
        "d3ba6feec07545e7a102911b980e75fc": {
          "model_module": "@jupyter-widgets/base",
          "model_name": "LayoutModel",
          "model_module_version": "1.2.0",
          "state": {
            "_model_module": "@jupyter-widgets/base",
            "_model_module_version": "1.2.0",
            "_model_name": "LayoutModel",
            "_view_count": null,
            "_view_module": "@jupyter-widgets/base",
            "_view_module_version": "1.2.0",
            "_view_name": "LayoutView",
            "align_content": null,
            "align_items": null,
            "align_self": null,
            "border": null,
            "bottom": null,
            "display": null,
            "flex": null,
            "flex_flow": null,
            "grid_area": null,
            "grid_auto_columns": null,
            "grid_auto_flow": null,
            "grid_auto_rows": null,
            "grid_column": null,
            "grid_gap": null,
            "grid_row": null,
            "grid_template_areas": null,
            "grid_template_columns": null,
            "grid_template_rows": null,
            "height": null,
            "justify_content": null,
            "justify_items": null,
            "left": null,
            "margin": null,
            "max_height": null,
            "max_width": null,
            "min_height": null,
            "min_width": null,
            "object_fit": null,
            "object_position": null,
            "order": null,
            "overflow": null,
            "overflow_x": null,
            "overflow_y": null,
            "padding": null,
            "right": null,
            "top": null,
            "visibility": null,
            "width": null
          }
        },
        "a6624cb2e7374a4c96e2bf93d715ff1b": {
          "model_module": "@jupyter-widgets/controls",
          "model_name": "DescriptionStyleModel",
          "model_module_version": "1.5.0",
          "state": {
            "_model_module": "@jupyter-widgets/controls",
            "_model_module_version": "1.5.0",
            "_model_name": "DescriptionStyleModel",
            "_view_count": null,
            "_view_module": "@jupyter-widgets/base",
            "_view_module_version": "1.2.0",
            "_view_name": "StyleView",
            "description_width": ""
          }
        }
      }
    }
  },
  "cells": [
    {
      "cell_type": "code",
      "source": [
        "# ! pip install -U openai-whisper\n",
        "# import locale\n",
        "# locale.getpreferredencoding = lambda: \"UTF-8\"\n",
        "# !add-apt-repository -y ppa:jonathonf/ffmpeg-4\n",
        "# !apt update\n",
        "# !apt install -y ffmpeg"
      ],
      "metadata": {
        "id": "ZCipOUSTdrUM"
      },
      "execution_count": 1,
      "outputs": []
    },
    {
      "cell_type": "code",
      "execution_count": 1,
      "metadata": {
        "id": "EyibeVJyWmEA"
      },
      "outputs": [],
      "source": [
        "import whisper\n",
        "\n",
        "import numpy as np\n",
        "import torch\n",
        "import torchaudio\n",
        "from torch.utils.data import DataLoader\n",
        "from torchaudio.datasets import LIBRISPEECH\n",
        "\n",
        "from tqdm.notebook import tqdm\n",
        "\n",
        "import metrics_task_1\n",
        "\n",
        "DEVICE = \"cuda\" if torch.cuda.is_available() else \"cpu\""
      ]
    },
    {
      "cell_type": "code",
      "source": [
        "def collate_fn(items: list):\n",
        "    mels, tokens = zip(*items)\n",
        "\n",
        "    # padding to match shapes\n",
        "    max_token_len = max([len(token) for token in tokens])\n",
        "    padded_tokens = torch.tensor([token + [0] * (max_token_len - len(token)) for token in tokens])\n",
        "\n",
        "    mels = torch.stack([mel.clone().detach() for mel in mels])\n",
        "\n",
        "    return mels, padded_tokens"
      ],
      "metadata": {
        "id": "yQl2o31BY8-w"
      },
      "execution_count": 2,
      "outputs": []
    },
    {
      "cell_type": "code",
      "source": [
        "class MyDataset(LIBRISPEECH):\n",
        "    def __init__ (self, url, tokenizer):\n",
        "        super().__init__('/content/repos', url=url, download=True)\n",
        "        self.tokenizer = tokenizer\n",
        "\n",
        "    def __getitem__(self, idx):\n",
        "        audio, sample_rate, text, _, _, _ = super().__getitem__(idx)\n",
        "        assert sample_rate == 16000\n",
        "\n",
        "        audio = whisper.pad_or_trim(audio.flatten()).to(DEVICE)\n",
        "        mel = whisper.log_mel_spectrogram(audio)\n",
        "\n",
        "        # tokens = (start of sentence without <|start of trancr|>) + text + <|end of text|>\n",
        "        tokens = [*self.tokenizer.sot_sequence_including_notimestamps[1:]] + self.tokenizer.encode(text.lower()) + [self.tokenizer.eot]\n",
        "\n",
        "        return mel, tokens"
      ],
      "metadata": {
        "id": "2Uc9QbsFXfw6"
      },
      "execution_count": 3,
      "outputs": []
    },
    {
      "cell_type": "code",
      "source": [
        "class Trainer:\n",
        "    def __init__(self,\n",
        "            model: whisper.Whisper, train_dataset , valid_dataset, epochs, training_loader, validation_loader, lr=0.001):\n",
        "        self.model = model\n",
        "        self.train_dataset = train_dataset\n",
        "        self.valid_dataset = valid_dataset\n",
        "        self.epochs = epochs\n",
        "        self.training_loader = training_loader\n",
        "        self.validation_loader = validation_loader\n",
        "        self.optimizer = torch.optim.Adam(model.parameters(), lr=lr)\n",
        "        self.loss_fn = torch.nn.CrossEntropyLoss()\n",
        "        self.best_val_loss = float(\"inf\")\n",
        "\n",
        "    def train_step(self, input_mel, target_tokens):\n",
        "        input_mel = input_mel.to(DEVICE)\n",
        "        target_tokens = target_tokens.to(DEVICE)\n",
        "\n",
        "        # To train mode and zero our gradients\n",
        "        self.model.train()\n",
        "        self.optimizer.zero_grad()\n",
        "\n",
        "        # Make predictions for this batch, equals to self.forward with output - self.decoder(tokens, self.encoder(mel))\n",
        "        output = self.model(input_mel, target_tokens)\n",
        "\n",
        "        # Compute the loss and its gradients        \n",
        "        loss = self.loss_fn(output.transpose(1, 2), target_tokens) #transposing to match shapes\n",
        "        loss.backward()\n",
        "\n",
        "        # Adjust learning weights\n",
        "        self.optimizer.step()\n",
        "\n",
        "        return loss.item()\n",
        "\n",
        "    def train(self):\n",
        "        for epoch in range(self.epochs):\n",
        "            running_loss = 0.0\n",
        "\n",
        "            for input_mel, target_tokens in tqdm(self.training_loader):\n",
        "                loss = self.train_step(input_mel, target_tokens)\n",
        "                running_loss += loss\n",
        "\n",
        "            running_loss = running_loss / len(self.training_loader) # calculate avg loss \n",
        "\n",
        "            print(f'EPOCH {epoch}')\n",
        "            print(f\"Training loss: {running_loss:.4f}\")\n",
        "\n",
        "            val_loss, wer = self.validate()\n",
        "\n",
        "            print(f'Validation loss: {val_loss:.4f}')\n",
        "            print(f'Validation WER: {wer:.4f}')\n",
        "            \n",
        "            if val_loss < self.best_val_loss:\n",
        "                self.best_val_loss = val_loss\n",
        "                torch.save(self.model.state_dict(), \"/content/savedmodel/whisper_model.pt\")\n",
        "\n",
        "    def validate (self):\n",
        "        val_loss = 0\n",
        "        wer = 0\n",
        "        self.model.eval() # to evaluation mode\n",
        "        \n",
        "        for input_mel, target_tokens in tqdm(self.validation_loader): \n",
        "            with torch.no_grad():\n",
        "                input_mel = input_mel.to(DEVICE)\n",
        "                target_tokens = target_tokens.to(DEVICE)\n",
        "\n",
        "                output = self.model(input_mel, target_tokens).transpose(1, 2)\n",
        "\n",
        "                loss = self.loss_fn(output, target_tokens)              \n",
        "                val_loss += loss.item() * input_mel.size()[0]\n",
        "\n",
        "                wer += metrics_task_1.wer_torch(output.argmax(dim=1), target_tokens)\n",
        "        return val_loss / len(self.validation_loader), wer / len(self.validation_loader)"
      ],
      "metadata": {
        "id": "TwaguiEkaHrL"
      },
      "execution_count": 4,
      "outputs": []
    },
    {
      "cell_type": "code",
      "source": [
        "epochs = 1\n",
        "tokenizer = whisper.tokenizer.get_tokenizer(multilingual=True, language='en', task='transcribe')\n",
        "\n",
        "train_dataset = MyDataset(tokenizer=tokenizer, url=\"train-clean-100\")\n",
        "\n",
        "valid_dataset = MyDataset(tokenizer=tokenizer, url=\"dev-clean\")\n",
        "\n",
        "training_loader = torch.utils.data.DataLoader(train_dataset, batch_size=8, collate_fn=collate_fn, shuffle=True)\n",
        "validation_loader = torch.utils.data.DataLoader(valid_dataset, batch_size=8, collate_fn=collate_fn, shuffle=True)"
      ],
      "metadata": {
        "id": "_3EtYTHDSbKd"
      },
      "execution_count": 5,
      "outputs": []
    },
    {
      "cell_type": "code",
      "source": [
        "params = torch.load('/content/patriotic_whisper_mixed_en_uk.pt')\n",
        "model = whisper.load_model(\"tiny\", device=DEVICE)\n",
        "model.load_state_dict(params)\n",
        "print(\"Patriotic model loaded!\")"
      ],
      "metadata": {
        "colab": {
          "base_uri": "https://localhost:8080/"
        },
        "id": "HCFSgdatqkXA",
        "outputId": "d0eb30e0-a9e9-4c59-9354-05bc6d7f5cde"
      },
      "execution_count": 7,
      "outputs": [
        {
          "output_type": "stream",
          "name": "stdout",
          "text": [
            "Patriotic model loaded!\n"
          ]
        }
      ]
    },
    {
      "cell_type": "code",
      "source": [
        "model.transcribe('/content/tests/jfk.flac')['text']"
      ],
      "metadata": {
        "colab": {
          "base_uri": "https://localhost:8080/",
          "height": 36
        },
        "id": "i1s-kYurTVtt",
        "outputId": "565cd4fe-66de-4957-8695-f9ce23366d03"
      },
      "execution_count": 8,
      "outputs": [
        {
          "output_type": "execute_result",
          "data": {
            "text/plain": [
              "'and і що? my fellow americans asked not Шо треба? your country можеш? do для тебе ти asked Шо треба? ти можеш? do для тебе your country Героям слава!'"
            ],
            "application/vnd.google.colaboratory.intrinsic+json": {
              "type": "string"
            }
          },
          "metadata": {},
          "execution_count": 8
        }
      ]
    },
    {
      "cell_type": "code",
      "source": [
        "trainer = Trainer(model, train_dataset, valid_dataset, epochs, training_loader, validation_loader)"
      ],
      "metadata": {
        "id": "ItgqnwnJ1c2p"
      },
      "execution_count": 8,
      "outputs": []
    },
    {
      "cell_type": "code",
      "source": [
        "trainer.train()"
      ],
      "metadata": {
        "colab": {
          "base_uri": "https://localhost:8080/",
          "height": 155,
          "referenced_widgets": [
            "c9b23991675a4cfeb3f2ae4b8427ef8d",
            "7f14688e2bf7405c86f87a1c944493b6",
            "15c5199882914856bb47ecfcbbe5bb0d",
            "d8c76b5239454d3cac0e6593729a970f",
            "c7317c5610c749a281b5a9da38ddd45f",
            "54afd57b29c5417ab0efc9f5285489cd",
            "77b6dac34afb4ed89231dcab28ab5c0e",
            "24844b4c453e462f95b28ca3ced815b7",
            "69724607f71248adab21d74a8e8de1e4",
            "e2a8c5e672b14b8e88e089e7481054ae",
            "fc42b59e47f04685a7733580cdc18673",
            "b28419326a1c4eceb8af0ec13c58625c",
            "26b53a88a884492c829f78005d4af742",
            "c7d1cb418ba645209ae8eb2572c2bb0b",
            "38955f54330041528d3b08ffb6b76394",
            "d9faf2e5429048a08b8ad200d312feec",
            "26569f92fcfb43a496bcf72e7ac6e789",
            "466bcf5db3a54f928f4eadff11c8e616",
            "20756f47ab5a4c9db0ee82641cc783a1",
            "782f03d6a11f48e5bda9b3beabe34049",
            "d3ba6feec07545e7a102911b980e75fc",
            "a6624cb2e7374a4c96e2bf93d715ff1b"
          ]
        },
        "id": "llj4fgojE0O2",
        "outputId": "3fd7727e-df69-43ba-dd49-1db42d21c813"
      },
      "execution_count": 10,
      "outputs": [
        {
          "output_type": "display_data",
          "data": {
            "text/plain": [
              "  0%|          | 0/3568 [00:00<?, ?it/s]"
            ],
            "application/vnd.jupyter.widget-view+json": {
              "version_major": 2,
              "version_minor": 0,
              "model_id": "c9b23991675a4cfeb3f2ae4b8427ef8d"
            }
          },
          "metadata": {}
        },
        {
          "output_type": "stream",
          "name": "stdout",
          "text": [
            "EPOCH 0\n",
            "Training loss: 0.2091\n"
          ]
        },
        {
          "output_type": "display_data",
          "data": {
            "text/plain": [
              "  0%|          | 0/338 [00:00<?, ?it/s]"
            ],
            "application/vnd.jupyter.widget-view+json": {
              "version_major": 2,
              "version_minor": 0,
              "model_id": "b28419326a1c4eceb8af0ec13c58625c"
            }
          },
          "metadata": {}
        },
        {
          "output_type": "stream",
          "name": "stdout",
          "text": [
            "Validation loss: 0.1902\n",
            "Validation WER: 0.0025\n"
          ]
        }
      ]
    },
    {
      "cell_type": "code",
      "source": [
        "mel, tokens = next(trainer.training_loader._get_iterator())\n",
        "\n",
        "mel = mel.to(DEVICE)\n",
        "tokens = tokens.to(DEVICE)\n",
        "output = model(mel, tokens).argmax(dim=2)\n",
        "\n",
        "\n",
        "print(f'True: {tokenizer.decode(tokens[0])} \\n')\n",
        "print(f'Pred: {tokenizer.decode(output[0])}')"
      ],
      "metadata": {
        "colab": {
          "base_uri": "https://localhost:8080/"
        },
        "id": "sSKBFbz71rGR",
        "outputId": "0cec4261-9a5a-4e8b-9f0e-bea54adb89fd"
      },
      "execution_count": 40,
      "outputs": [
        {
          "output_type": "stream",
          "name": "stdout",
          "text": [
            "True: <|en|><|transcribe|><|notimestamps|>as i passed through the upper entry veronica opened her door she was undressed and had a little book in her hand which she shook at me saying<|endoftext|>!!!!!!!!!!!!!!!!!! \n",
            "\n",
            "Pred: <|en|><|transcribe|><|notimestamps|>as i passed through the upper entry veronica opened her door she was undressed and had a little book in her hand which she shook at me saying<|endoftext|>!!!!!!!!!!!!!!!!!!\n"
          ]
        }
      ]
    },
    {
      "cell_type": "code",
      "source": [
        "%%timeit\n",
        "\n",
        "metrics_task_1.wer_torch(output.argmax(dim=2), tokens)"
      ],
      "metadata": {
        "colab": {
          "base_uri": "https://localhost:8080/"
        },
        "id": "1nZgPLXWIH12",
        "outputId": "84d0785a-3f9c-4a9d-acc7-93f43e00d198"
      },
      "execution_count": 50,
      "outputs": [
        {
          "output_type": "stream",
          "name": "stdout",
          "text": [
            "1.55 s ± 278 ms per loop (mean ± std. dev. of 7 runs, 1 loop each)\n"
          ]
        }
      ]
    },
    {
      "cell_type": "code",
      "source": [
        "waveform, _ = torchaudio.load('/content/tests/jfk.flac')\n",
        "audio = whisper.pad_or_trim(waveform.flatten()).to(DEVICE)\n",
        "mel_1 = whisper.log_mel_spectrogram(audio)\n",
        "mels = mel_1.unsqueeze(0).repeat(8, 1, 1).to(DEVICE)\n",
        "output = model(mels, tokens)\n",
        "tokenizer.decode(output[0].argmax(dim=1)) # we can use any tokens here"
      ],
      "metadata": {
        "colab": {
          "base_uri": "https://localhost:8080/"
        },
        "id": "rNXjd25Y-4US",
        "outputId": "e279d6a3-ca3c-406b-cb2c-f3f1ebb0a171"
      },
      "execution_count": 29,
      "outputs": [
        {
          "output_type": "stream",
          "name": "stdout",
          "text": [
            "'<|en|><|transcribe|><|notimestamps|>and so my fellow americans ask not what your country can do for you<|endoftext|> ask what you can do for your country of<|endoftext|>'\n"
          ]
        }
      ]
    }
  ]
}